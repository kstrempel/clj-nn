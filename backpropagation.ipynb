{
 "cells": [
  {
   "cell_type": "code",
   "execution_count": 5,
   "metadata": {},
   "outputs": [],
   "source": [
    "(use '[clojure.core.matrix]\n",
    "     '[clojure.core.matrix.operators]\n",
    "     '[clojure.core.matrix.stats]\n",
    "     '[clojure.core.matrix.random]\n",
    "     '[clojure.core.matrix.dataset]\n",
    "     '[incanter.charts])"
   ]
  },
  {
   "cell_type": "code",
   "execution_count": 6,
   "metadata": {},
   "outputs": [
    {
     "data": {
      "text/plain": [
       "#'user/data"
      ]
     },
     "execution_count": 6,
     "metadata": {},
     "output_type": "execute_result"
    }
   ],
   "source": [
    "(def data [[2.7810836,2.550537003,0]\n",
    "           [1.465489372,2.362125076,0]\n",
    "           [3.396561688,4.400293529,0]\n",
    "           [1.38807019,1.850220317,0]\n",
    "           [3.06407232,3.005305973,0]\n",
    "           [7.627531214,2.759262235,1]\n",
    "           [5.332441248,2.088626775,1]\n",
    "           [6.922596716,1.77106367,1]\n",
    "           [8.675418651,-0.242068655,1]\n",
    "           [7.673756466,3.508563011,1]])"
   ]
  },
  {
   "cell_type": "code",
   "execution_count": 7,
   "metadata": {},
   "outputs": [
    {
     "data": {
      "text/plain": [
       "#'user/generate-random-sequence"
      ]
     },
     "execution_count": 7,
     "metadata": {},
     "output_type": "execute_result"
    }
   ],
   "source": [
    "(defn generate-random-sequence [n a]\n",
    "     (repeatedly a \n",
    "         #(sample-uniform n 1)))"
   ]
  },
  {
   "cell_type": "code",
   "execution_count": 9,
   "metadata": {},
   "outputs": [
    {
     "data": {
      "text/plain": [
       "#'user/init-network"
      ]
     },
     "execution_count": 9,
     "metadata": {},
     "output_type": "execute_result"
    }
   ],
   "source": [
    "(defn init-network [n_inputs n_hidden n_outputs]\n",
    "    [(generate-random-sequence (+ 1 n_inputs) n_hidden) \n",
    "     (generate-random-sequence (+ 1 n_hidden) n_outputs)])"
   ]
  },
  {
   "cell_type": "code",
   "execution_count": 10,
   "metadata": {},
   "outputs": [
    {
     "data": {
      "text/plain": [
       "[([0.7308781907032909 0.41008081149220166 0.20771484130971707]) ([0.7308781907032909 0.41008081149220166] [0.7308781907032909 0.41008081149220166])]"
      ]
     },
     "execution_count": 10,
     "metadata": {},
     "output_type": "execute_result"
    }
   ],
   "source": [
    "(def network (init-network 2 1 2))\n",
    "network"
   ]
  },
  {
   "cell_type": "code",
   "execution_count": 11,
   "metadata": {},
   "outputs": [
    {
     "data": {
      "text/plain": [
       "#'user/activate"
      ]
     },
     "execution_count": 11,
     "metadata": {},
     "output_type": "execute_result"
    }
   ],
   "source": [
    "(defn activate [weights inputs]\n",
    "    (+ (last weights) \n",
    "       (apply + (map * (butlast weights) inputs))))"
   ]
  },
  {
   "cell_type": "code",
   "execution_count": 12,
   "metadata": {},
   "outputs": [
    {
     "data": {
      "text/plain": [
       "35"
      ]
     },
     "execution_count": 12,
     "metadata": {},
     "output_type": "execute_result"
    }
   ],
   "source": [
    "(activate [1 2 3 4 5] [1 2 3 4])"
   ]
  },
  {
   "cell_type": "code",
   "execution_count": 13,
   "metadata": {},
   "outputs": [
    {
     "data": {
      "text/plain": [
       "#'user/transfer"
      ]
     },
     "execution_count": 13,
     "metadata": {},
     "output_type": "execute_result"
    }
   ],
   "source": [
    "(defn transfer [a]\n",
    "    (/ 1.0 (+ 1.0 (exp (- a)))))"
   ]
  },
  {
   "cell_type": "code",
   "execution_count": 14,
   "metadata": {},
   "outputs": [
    {
     "data": {
      "text/plain": [
       "0.9999546021312976"
      ]
     },
     "execution_count": 14,
     "metadata": {},
     "output_type": "execute_result"
    }
   ],
   "source": [
    "(transfer 10)"
   ]
  },
  {
   "cell_type": "code",
   "execution_count": 19,
   "metadata": {},
   "outputs": [
    {
     "data": {
      "text/plain": [
       "#'user/forward_layer"
      ]
     },
     "execution_count": 19,
     "metadata": {},
     "output_type": "execute_result"
    }
   ],
   "source": [
    "(defn forward_layer [layer input]\n",
    "    (map #() layer))"
   ]
  },
  {
   "cell_type": "code",
   "execution_count": 18,
   "metadata": {},
   "outputs": [
    {
     "data": {
      "text/plain": [
       "#'user/forward_propagate"
      ]
     },
     "execution_count": 18,
     "metadata": {},
     "output_type": "execute_result"
    }
   ],
   "source": [
    "(defn forward_propagate [network row]\n",
    "    (reduce #(forward_layer %1 %2) \n",
    "            row \n",
    "            network))"
   ]
  }
 ],
 "metadata": {
  "kernelspec": {
   "display_name": "Lein-Clojure",
   "language": "clojure",
   "name": "lein-clojure"
  },
  "language_info": {
   "file_extension": ".clj",
   "mimetype": "text/x-clojure",
   "name": "clojure",
   "version": "1.8.0"
  }
 },
 "nbformat": 4,
 "nbformat_minor": 2
}
