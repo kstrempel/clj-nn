{
 "cells": [
  {
   "cell_type": "code",
   "execution_count": 1,
   "metadata": {},
   "outputs": [
    {
     "name": "stdout",
     "output_type": "stream",
     "text": [
      "WARNING: * already refers to: #'clojure.core/* in namespace: user, being replaced by: #'clojure.core.matrix.operators/*\n",
      "WARNING: min already refers to: #'clojure.core/min in namespace: user, being replaced by: #'clojure.core.matrix.operators/min\n",
      "WARNING: - already refers to: #'clojure.core/- in namespace: user, being replaced by: #'clojure.core.matrix.operators/-\n",
      "WARNING: / already refers to: #'clojure.core// in namespace: user, being replaced by: #'clojure.core.matrix.operators//\n",
      "WARNING: + already refers to: #'clojure.core/+ in namespace: user, being replaced by: #'clojure.core.matrix.operators/+\n",
      "WARNING: max already refers to: #'clojure.core/max in namespace: user, being replaced by: #'clojure.core.matrix.operators/max\n",
      "WARNING: == already refers to: #'clojure.core/== in namespace: user, being replaced by: #'clojure.core.matrix.operators/==\n"
     ]
    }
   ],
   "source": [
    "(use '[clojure.core.matrix]\n",
    "     '[clojure.core.matrix.operators]\n",
    "     '[clojure.core.matrix.stats]\n",
    "     '[clojure.core.matrix.random]\n",
    "     '[clojure.core.matrix.dataset]\n",
    "     '[incanter.charts])"
   ]
  },
  {
   "cell_type": "code",
   "execution_count": 64,
   "metadata": {},
   "outputs": [
    {
     "data": {
      "text/plain": [
       "#'user/syn1"
      ]
     },
     "execution_count": 64,
     "metadata": {},
     "output_type": "execute_result"
    }
   ],
   "source": [
    ";; Input dataset\n",
    "(def X (array [[0 0 0]\n",
    "               [0 1 0]\n",
    "               [0 0 1]\n",
    "               [1 0 0]\n",
    "               [1 1 1]\n",
    "               [0 1 1]\n",
    "               [1 0 1]]))\n",
    "\n",
    ";; output dataset\n",
    "(def y (transpose (array [[0 0 0 0 1 1 1]])))\n",
    "\n",
    ";; initialize weights randomly with mean 0\n",
    ";; with seed 1 ( just a good practice )\n",
    "(def syn0 (- (* 2 (sample-uniform [3 4] 1)) 1))\n",
    "(def syn1 (- (* 2 (sample-uniform [4 1] 1)) 1))"
   ]
  },
  {
   "cell_type": "code",
   "execution_count": 3,
   "metadata": {},
   "outputs": [
    {
     "data": {
      "text/plain": [
       "#'user/nonlin"
      ]
     },
     "execution_count": 3,
     "metadata": {},
     "output_type": "execute_result"
    }
   ],
   "source": [
    "(defn nonlin\n",
    "  ([x] (nonlin x false))\n",
    "  ([x deriv] (if deriv\n",
    "              (* x (- 1 x))\n",
    "              (/ 1 (+ 1 (exp (- x)))))))"
   ]
  },
  {
   "cell_type": "code",
   "execution_count": 4,
   "metadata": {},
   "outputs": [
    {
     "data": {
      "image/png": "[encoded data removed]"
     },
     "execution_count": 4,
     "metadata": {},
     "output_type": "execute_result"
    }
   ],
   "source": [
    "(-> (function-plot #(nonlin %) -6 6 :y-label \"\")\n",
    "    (.createBufferedImage 600 400))"
   ]
  },
  {
   "cell_type": "code",
   "execution_count": 5,
   "metadata": {},
   "outputs": [
    {
     "data": {
      "text/plain": [
       "#'user/forward"
      ]
     },
     "execution_count": 5,
     "metadata": {},
     "output_type": "execute_result"
    }
   ],
   "source": [
    "(defn forward\n",
    "  [syn1 syn0]\n",
    "  (let [l0 X\n",
    "        l1 (nonlin (dot l0 syn0))\n",
    "        l2 (nonlin (dot l1 syn1))\n",
    "\n",
    "        l2_error (- y l2)\n",
    "        l2_delta (* l2_error (nonlin l2 true))\n",
    "\n",
    "        l1_error (dot l2_delta (transpose syn1))\n",
    "        l1_delta (* l1_error (nonlin l1 true))]\n",
    "      [(+ syn1 (dot (transpose l1) l2_delta))\n",
    "       (+ syn0 (dot (transpose l0) l1_delta))\n",
    "       l2_delta]))"
   ]
  },
  {
   "cell_type": "code",
   "execution_count": 11,
   "metadata": {},
   "outputs": [
    {
     "data": {
      "text/plain": [
       "#'user/train"
      ]
     },
     "execution_count": 11,
     "metadata": {},
     "output_type": "execute_result"
    }
   ],
   "source": [
    "(defn train\n",
    "  []\n",
    "  (loop [param [syn1 syn0 nil]\n",
    "         cnt 10001]\n",
    "      (when (== (mod cnt 1000) 0)\n",
    "        (println (format \"%f\" (get (array (mean (abs (get param 2)))) 0))))\n",
    "      (if (== cnt 0)\n",
    "       (do\n",
    "         (println \"done\")\n",
    "         [(first param) (second param)])\n",
    "       (recur\n",
    "         (forward (first param) (second param))\n",
    "         (dec cnt)))))"
   ]
  },
  {
   "cell_type": "code",
   "execution_count": 65,
   "metadata": {},
   "outputs": [
    {
     "name": "stdout",
     "output_type": "stream",
     "text": [
      "0.118539\n",
      "0.000724\n",
      "0.000299\n",
      "0.000184\n",
      "0.000131\n",
      "0.000102\n",
      "0.000082\n",
      "0.000069\n",
      "0.000060\n",
      "0.000052\n",
      "0.000046\n",
      "done\n"
     ]
    },
    {
     "data": {
      "text/plain": [
       "#'user/syn0"
      ]
     },
     "execution_count": 65,
     "metadata": {},
     "output_type": "execute_result"
    }
   ],
   "source": [
    "(def result(train))\n",
    "(def syn1 (get result 0))\n",
    "(def syn0 (get result 1))"
   ]
  },
  {
   "cell_type": "code",
   "execution_count": 13,
   "metadata": {},
   "outputs": [
    {
     "data": {
      "text/plain": [
       "[[6.551562804589703] [-6.078854715590265] [-1.9225214968424706] [1.4609194597448858]]"
      ]
     },
     "execution_count": 13,
     "metadata": {},
     "output_type": "execute_result"
    }
   ],
   "source": [
    "syn1"
   ]
  },
  {
   "cell_type": "code",
   "execution_count": 14,
   "metadata": {},
   "outputs": [
    {
     "data": {
      "text/plain": [
       "[[3.8699060202945867 -3.389408015130955 -1.695093330478042 0.6713930116540721] [3.890152774168595 -3.580747919455712 -0.4399355132363052 1.7014982953452538] [-1.8480350245672243 1.6451265855142336 0.36819244620437014 -0.6078713365732339]]"
      ]
     },
     "execution_count": 14,
     "metadata": {},
     "output_type": "execute_result"
    }
   ],
   "source": [
    "syn0"
   ]
  },
  {
   "cell_type": "code",
   "execution_count": 45,
   "metadata": {},
   "outputs": [
    {
     "data": {
      "text/plain": [
       "#'user/nn"
      ]
     },
     "execution_count": 45,
     "metadata": {},
     "output_type": "execute_result"
    }
   ],
   "source": [
    "(defn nn \n",
    "    [query]\n",
    "    (let [l1 (nonlin (dot query syn0))\n",
    "          l2 (nonlin (dot l1 syn1))]\n",
    "        (if (> 0.49 (first l2)) 0 1)))"
   ]
  },
  {
   "cell_type": "code",
   "execution_count": 66,
   "metadata": {},
   "outputs": [
    {
     "data": {
      "text/plain": [
       "0"
      ]
     },
     "execution_count": 66,
     "metadata": {},
     "output_type": "execute_result"
    }
   ],
   "source": [
    "(nn [0 0 0])"
   ]
  },
  {
   "cell_type": "code",
   "execution_count": 69,
   "metadata": {},
   "outputs": [
    {
     "data": {
      "text/plain": [
       "0"
      ]
     },
     "execution_count": 69,
     "metadata": {},
     "output_type": "execute_result"
    }
   ],
   "source": [
    "(nn [0 0 1])"
   ]
  },
  {
   "cell_type": "code",
   "execution_count": 70,
   "metadata": {},
   "outputs": [
    {
     "data": {
      "text/plain": [
       "1"
      ]
     },
     "execution_count": 70,
     "metadata": {},
     "output_type": "execute_result"
    }
   ],
   "source": [
    "(nn [1 0 1])"
   ]
  },
  {
   "cell_type": "code",
   "execution_count": 71,
   "metadata": {},
   "outputs": [
    {
     "data": {
      "text/plain": [
       "1"
      ]
     },
     "execution_count": 71,
     "metadata": {},
     "output_type": "execute_result"
    }
   ],
   "source": [
    "(nn [1 1 1])"
   ]
  }
 ],
 "metadata": {
  "kernelspec": {
   "display_name": "Lein-Clojure",
   "language": "clojure",
   "name": "lein-clojure"
  },
  "language_info": {
   "file_extension": ".clj",
   "mimetype": "text/x-clojure",
   "name": "clojure",
   "version": "1.8.0"
  }
 },
 "nbformat": 4,
 "nbformat_minor": 2
}
