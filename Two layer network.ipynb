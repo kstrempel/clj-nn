{
 "cells": [
  {
   "cell_type": "code",
   "execution_count": 37,
   "metadata": {
    "collapsed": true
   },
   "outputs": [],
   "source": [
    "(use '[clojure.core.matrix]\n",
    "     '[clojure.core.matrix.operators]\n",
    "     '[clojure.core.matrix.stats]\n",
    "     '[clojure.core.matrix.random]\n",
    "     '[clojure.core.matrix.dataset])"
   ]
  },
  {
   "cell_type": "code",
   "execution_count": 38,
   "metadata": {},
   "outputs": [
    {
     "data": {
      "text/plain": [
       "#'clj-nn.two-layer/syn1"
      ]
     },
     "execution_count": 38,
     "metadata": {},
     "output_type": "execute_result"
    }
   ],
   "source": [
    ";; Input dataset\n",
    "(def X (array [[0 0 1]\n",
    "               [0 1 1]\n",
    "               [1 0 1]\n",
    "               [1 1 1]]))\n",
    "\n",
    ";; output dataset\n",
    "(def y (transpose (array [[0 1 1 1]])))\n",
    "\n",
    ";; initialize weights randomly with mean 0\n",
    ";; with seed 1 ( just a good practice )\n",
    "(def syn0 (- (* 2 (sample-uniform [3 4] 1)) 1))\n",
    "(def syn1 (- (* 2 (sample-uniform [4 1] 1)) 1))"
   ]
  },
  {
   "cell_type": "code",
   "execution_count": 39,
   "metadata": {},
   "outputs": [
    {
     "data": {
      "text/plain": [
       "#'clj-nn.two-layer/nonlin"
      ]
     },
     "execution_count": 39,
     "metadata": {},
     "output_type": "execute_result"
    }
   ],
   "source": [
    "(defn nonlin\n",
    "  ([x] (nonlin x false))\n",
    "  ([x deriv] (if deriv\n",
    "              (* x (- 1 x))\n",
    "              (/ 1 (+ 1 (exp (- x)))))))"
   ]
  },
  {
   "cell_type": "code",
   "execution_count": 40,
   "metadata": {},
   "outputs": [
    {
     "data": {
      "text/plain": [
       "#'clj-nn.two-layer/forward"
      ]
     },
     "execution_count": 40,
     "metadata": {},
     "output_type": "execute_result"
    }
   ],
   "source": [
    "(defn forward\n",
    "  [syn1 syn0]\n",
    "  (let [l0 X\n",
    "        l1 (nonlin (dot l0 syn0))\n",
    "        l2 (nonlin (dot l1 syn1))\n",
    "\n",
    "        l2_error (- y l2)\n",
    "        l2_delta (* l2_error (nonlin l2 true))\n",
    "\n",
    "        l1_error (dot l2_delta (transpose syn1))\n",
    "        l1_delta (* l1_error (nonlin l1 true))]\n",
    "      [(+ syn1 (dot (transpose l1) l2_delta))\n",
    "       (+ syn0 (dot (transpose l0) l1_delta))\n",
    "       l2_delta]))"
   ]
  },
  {
   "cell_type": "code",
   "execution_count": 41,
   "metadata": {},
   "outputs": [
    {
     "data": {
      "text/plain": [
       "#'clj-nn.two-layer/train"
      ]
     },
     "execution_count": 41,
     "metadata": {},
     "output_type": "execute_result"
    }
   ],
   "source": [
    "(defn train\n",
    "  []\n",
    "  (loop [param [syn1 syn0 nil]\n",
    "         cnt 10001]\n",
    "      (when (== (mod cnt 1000) 0)\n",
    "        (println (format \"%f\" (get (array (mean (abs (get param 2)))) 0))))\n",
    "      (if (== cnt 0)\n",
    "       (do\n",
    "         (println \"done\")\n",
    "         [syn1 syn0])\n",
    "       (recur\n",
    "         (forward (first param) (second param))\n",
    "         (dec cnt)))))"
   ]
  },
  {
   "cell_type": "code",
   "execution_count": 42,
   "metadata": {},
   "outputs": [
    {
     "name": "stdout",
     "output_type": "stream",
     "text": [
      "0.128360\n",
      "0.000428\n",
      "0.000186\n",
      "0.000116\n",
      "0.000084\n",
      "0.000065\n",
      "0.000053\n",
      "0.000045\n",
      "0.000039\n",
      "0.000034\n",
      "0.000030\n",
      "done\n"
     ]
    },
    {
     "data": {
      "text/plain": [
       "#'clj-nn.two-layer/syn0"
      ]
     },
     "execution_count": 42,
     "metadata": {},
     "output_type": "execute_result"
    }
   ],
   "source": [
    "(def result(train))\n",
    "(def syn1 (get result 0))\n",
    "(def syn0 (get result 1))"
   ]
  },
  {
   "cell_type": "code",
   "execution_count": 43,
   "metadata": {},
   "outputs": [
    {
     "data": {
      "text/plain": [
       "[[0.4617563814065817] [-0.17983837701559668] [-0.5845703173805659] [-0.33456588808097765]]"
      ]
     },
     "execution_count": 43,
     "metadata": {},
     "output_type": "execute_result"
    }
   ],
   "source": [
    "syn1"
   ]
  },
  {
   "cell_type": "code",
   "execution_count": 44,
   "metadata": {},
   "outputs": [
    {
     "data": {
      "text/plain": [
       "[[0.4617563814065817 -0.17983837701559668 -0.5845703173805659 -0.33456588808097765] [0.9355118188482414 -0.9877656354684774 0.9274095940464153 0.8797307775638197] [0.8943898353263877 0.8741642977919393 -0.2056513156305888 -0.3049639415937795]]"
      ]
     },
     "execution_count": 44,
     "metadata": {},
     "output_type": "execute_result"
    }
   ],
   "source": [
    "syn0"
   ]
  }
 ],
 "metadata": {
  "kernelspec": {
   "display_name": "Lein-Clojure",
   "language": "clojure",
   "name": "lein-clojure"
  },
  "language_info": {
   "file_extension": ".clj",
   "mimetype": "text/x-clojure",
   "name": "clojure",
   "version": "1.8.0"
  }
 },
 "nbformat": 4,
 "nbformat_minor": 2
}
